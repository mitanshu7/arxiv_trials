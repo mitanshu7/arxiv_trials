{
 "cells": [
  {
   "cell_type": "code",
   "execution_count": null,
   "metadata": {},
   "outputs": [],
   "source": [
    "## Importing the required libraries\n",
    "import pandas as pd\n",
    "import os\n",
    "import json\n",
    "from time import time\n",
    "\n",
    "## Track the time taken to process the metadata\n",
    "start_time = time()\n",
    "\n",
    "## Download the arXiv metadata from Kaggle\n",
    "from kaggle.api.kaggle_api_extended import KaggleApi\n",
    "api = KaggleApi() # Create an API client object\n",
    "api.authenticate() # Authenticate the API client\n",
    "\n",
    "## Defining paths\n",
    "download_path = 'kaggle'\n",
    "data_file = f'{download_path}/arxiv-metadata-oai-snapshot.json'\n",
    "\n",
    "## Download the dataset if it doesn't exist\n",
    "if not os.path.exists(data_file):\n",
    "    print(f'Downloading {data_file}')\n",
    "    api.dataset_download_files('Cornell-University/arxiv', path=download_path, unzip=True)\n",
    "else:\n",
    "    print(f'{data_file} already exists')"
   ]
  },
  {
   "cell_type": "code",
   "execution_count": null,
   "metadata": {},
   "outputs": [],
   "source": [
    "arxiv_metadata_all = pd.read_json(data_file, lines=True, convert_dates=True)\n"
   ]
  },
  {
   "cell_type": "code",
   "execution_count": null,
   "metadata": {},
   "outputs": [],
   "source": [
    "arxiv_metadata_all.head()"
   ]
  },
  {
   "cell_type": "code",
   "execution_count": null,
   "metadata": {},
   "outputs": [],
   "source": [
    "## Extract the metadata for the papers with id that starts with 20, 21, 22, 23\n",
    "arxiv_metadata = arxiv_metadata_all[arxiv_metadata_all['id'].str.match(r'2[0-3]')] \n",
    "\n",
    "arxiv_metadata.head()\n",
    "\n"
   ]
  },
  {
   "cell_type": "code",
   "execution_count": null,
   "metadata": {},
   "outputs": [],
   "source": [
    "arxiv_metadata.tail()"
   ]
  },
  {
   "cell_type": "code",
   "execution_count": null,
   "metadata": {},
   "outputs": [],
   "source": [
    "## Only save columns id, abstract, title\n",
    "arxiv_metadata = arxiv_metadata[['id', 'abstract', 'title']]\n",
    "arxiv_metadata.head()\n"
   ]
  },
  {
   "cell_type": "code",
   "execution_count": null,
   "metadata": {},
   "outputs": [],
   "source": [
    "arxiv_metadata.tail()\n"
   ]
  },
  {
   "cell_type": "code",
   "execution_count": null,
   "metadata": {},
   "outputs": [],
   "source": [
    "## Turn the contents of the dataframe to lowercase\n",
    "arxiv_metadata = arxiv_metadata.apply(lambda x: x.str.lower())\n",
    "arxiv_metadata.head()"
   ]
  },
  {
   "cell_type": "code",
   "execution_count": null,
   "metadata": {},
   "outputs": [],
   "source": [
    "arxiv_metadata.tail()\n"
   ]
  },
  {
   "cell_type": "code",
   "execution_count": null,
   "metadata": {},
   "outputs": [],
   "source": []
  },
  {
   "cell_type": "code",
   "execution_count": 2,
   "metadata": {},
   "outputs": [
    {
     "data": {
      "text/html": [
       "<div>\n",
       "<style scoped>\n",
       "    .dataframe tbody tr th:only-of-type {\n",
       "        vertical-align: middle;\n",
       "    }\n",
       "\n",
       "    .dataframe tbody tr th {\n",
       "        vertical-align: top;\n",
       "    }\n",
       "\n",
       "    .dataframe thead th {\n",
       "        text-align: right;\n",
       "    }\n",
       "</style>\n",
       "<table border=\"1\" class=\"dataframe\">\n",
       "  <thead>\n",
       "    <tr style=\"text-align: right;\">\n",
       "      <th></th>\n",
       "      <th>id</th>\n",
       "      <th>abstract</th>\n",
       "      <th>title</th>\n",
       "    </tr>\n",
       "  </thead>\n",
       "  <tbody>\n",
       "    <tr>\n",
       "      <th>0</th>\n",
       "      <td>2001.00001</td>\n",
       "      <td>mathematics can help analyze the arts and in...</td>\n",
       "      <td>quantum gestart: identifying and applying corr...</td>\n",
       "    </tr>\n",
       "    <tr>\n",
       "      <th>1</th>\n",
       "      <td>2001.00002</td>\n",
       "      <td>in the paper we provide some polynomial iden...</td>\n",
       "      <td>on identities of $2$-dimensional algebras</td>\n",
       "    </tr>\n",
       "    <tr>\n",
       "      <th>2</th>\n",
       "      <td>2001.00003</td>\n",
       "      <td>word embedding is an essential building bloc...</td>\n",
       "      <td>learning numeral embeddings</td>\n",
       "    </tr>\n",
       "    <tr>\n",
       "      <th>3</th>\n",
       "      <td>2001.00004</td>\n",
       "      <td>online algorithm has been an emerging area o...</td>\n",
       "      <td>new competitive analysis results of online lis...</td>\n",
       "    </tr>\n",
       "    <tr>\n",
       "      <th>4</th>\n",
       "      <td>2001.00005</td>\n",
       "      <td>the objective of this paper is to construct ...</td>\n",
       "      <td>approach to the construction of the spaces $ s...</td>\n",
       "    </tr>\n",
       "  </tbody>\n",
       "</table>\n",
       "</div>"
      ],
      "text/plain": [
       "           id                                           abstract  \\\n",
       "0  2001.00001    mathematics can help analyze the arts and in...   \n",
       "1  2001.00002    in the paper we provide some polynomial iden...   \n",
       "2  2001.00003    word embedding is an essential building bloc...   \n",
       "3  2001.00004    online algorithm has been an emerging area o...   \n",
       "4  2001.00005    the objective of this paper is to construct ...   \n",
       "\n",
       "                                               title  \n",
       "0  quantum gestart: identifying and applying corr...  \n",
       "1          on identities of $2$-dimensional algebras  \n",
       "2                        learning numeral embeddings  \n",
       "3  new competitive analysis results of online lis...  \n",
       "4  approach to the construction of the spaces $ s...  "
      ]
     },
     "execution_count": 2,
     "metadata": {},
     "output_type": "execute_result"
    }
   ],
   "source": [
    "import pandas as pd\n",
    "## Load the parquet file\n",
    "metadata_df = pd.read_parquet(r'kaggle\\arxiv_metadata_2020_to_2023.parquet')\n",
    "\n",
    "## Display the first few rows of the dataframe\n",
    "metadata_df.head()"
   ]
  }
 ],
 "metadata": {
  "kernelspec": {
   "display_name": "km",
   "language": "python",
   "name": "python3"
  },
  "language_info": {
   "codemirror_mode": {
    "name": "ipython",
    "version": 3
   },
   "file_extension": ".py",
   "mimetype": "text/x-python",
   "name": "python",
   "nbconvert_exporter": "python",
   "pygments_lexer": "ipython3",
   "version": "3.11.8"
  }
 },
 "nbformat": 4,
 "nbformat_minor": 2
}
