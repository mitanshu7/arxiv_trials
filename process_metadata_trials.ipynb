{
 "cells": [
  {
   "cell_type": "markdown",
   "metadata": {},
   "source": [
    "# importing necessary stuff"
   ]
  },
  {
   "cell_type": "code",
   "execution_count": 2,
   "metadata": {},
   "outputs": [],
   "source": [
    "import pandas as pd\n",
    "import os\n",
    "import json\n"
   ]
  },
  {
   "cell_type": "markdown",
   "metadata": {},
   "source": [
    "# Downloading the dataset"
   ]
  },
  {
   "cell_type": "code",
   "execution_count": 3,
   "metadata": {},
   "outputs": [
    {
     "name": "stdout",
     "output_type": "stream",
     "text": [
      "kaggle/arxiv-metadata-oai-snapshot.json already exists\n"
     ]
    }
   ],
   "source": [
    "## Download the arXiv metadata from Kaggle\n",
    "\n",
    "from kaggle.api.kaggle_api_extended import KaggleApi\n",
    "api = KaggleApi() # Create an API client object\n",
    "api.authenticate() # Authenticate the API client\n",
    "\n",
    "## Defining paths\n",
    "download_path = 'kaggle'\n",
    "data_file = f'{download_path}/arxiv-metadata-oai-snapshot.json'\n",
    "\n",
    "## Download the dataset if it doesn't exist\n",
    "if not os.path.exists(data_file):\n",
    "    print(f'Downloading {data_file}')\n",
    "    api.dataset_download_files('Cornell-University/arxiv', path=download_path, unzip=True)\n",
    "else:\n",
    "    print(f'{data_file} already exists')\n"
   ]
  },
  {
   "cell_type": "markdown",
   "metadata": {},
   "source": [
    "# Processing the dataset"
   ]
  },
  {
   "cell_type": "markdown",
   "metadata": {},
   "source": [
    "## From kaggle"
   ]
  },
  {
   "cell_type": "code",
   "execution_count": 4,
   "metadata": {},
   "outputs": [],
   "source": [
    "## Get metadata from the JSON file, one line at a time\n",
    "def get_metadata():\n",
    "  \"\"\"Generator that yields lines from a large JSON file one by one.\n",
    "\n",
    "  Yields:\n",
    "      str: A single line from the JSON file.\n",
    "  \"\"\"\n",
    "  with open(data_file, 'r') as f:\n",
    "    for line in f:\n",
    "      yield line\n"
   ]
  },
  {
   "cell_type": "code",
   "execution_count": 15,
   "metadata": {},
   "outputs": [
    {
     "name": "stdout",
     "output_type": "stream",
     "text": [
      "dict_keys(['id', 'submitter', 'authors', 'title', 'comments', 'journal-ref', 'doi', 'report-no', 'categories', 'license', 'abstract', 'versions', 'update_date', 'authors_parsed'])\n",
      "Calculation of prompt diphoton production cross sections at Tevatron and\n",
      "  LHC energies\n",
      "  A fully differential calculation in perturbative quantum chromodynamics is\n",
      "presented for the production of massive photon pairs at hadron colliders. All\n",
      "next-to-leading order perturbative contributions from quark-antiquark,\n",
      "gluon-(anti)quark, and gluon-gluon subprocesses are included, as well as\n",
      "all-orders resummation of initial-state gluon radiation valid at\n",
      "next-to-next-to-leading logarithmic accuracy. The region of phase space is\n",
      "specified in which the calculation is most reliable. Good agreement is\n",
      "demonstrated with data from the Fermilab Tevatron, and predictions are made for\n",
      "more detailed tests with CDF and DO data. Predictions are shown for\n",
      "distributions of diphoton pairs produced at the energy of the Large Hadron\n",
      "Collider (LHC). Distributions of the diphoton pairs from the decay of a Higgs\n",
      "boson are contrasted with those produced from QCD processes at the LHC, showing\n",
      "that enhanced sensitivity to the signal can be obtained with judicious\n",
      "selection of events.\n",
      "\n",
      "07\n"
     ]
    }
   ],
   "source": [
    "## Call the generator function and print the first line\n",
    "# metadata = get_metadata()\n",
    "\n",
    "# for paper in metadata:\n",
    "#     paper_dict = json.loads(paper)\n",
    "#     print(paper_dict.keys())\n",
    "#     print(paper_dict.get('title'))\n",
    "#     print(paper_dict.get('abstract'))\n",
    "#     print(paper_dict.get('id').split('.')[0][0:2])\n",
    "#     # print('Title: {}\\n\\nAbstract: {}\\nRef: {}'.format(paper_dict.get('title'), paper_dict.get('abstract'), paper_dict.get('journal-ref')))\n",
    "# #     print(paper)\n",
    "#     break"
   ]
  },
  {
   "cell_type": "code",
   "execution_count": null,
   "metadata": {},
   "outputs": [],
   "source": [
    "## Get metadata from the JSON file, one line at a time\n",
    "metadata = get_metadata()\n",
    "\n",
    "## Create a pandas dataframe to store the id, title, abstract of of papers published between 2020 and 2023\n",
    "metadata_df = pd.DataFrame(columns=['id', 'title', 'abstract'])\n",
    "\n",
    "## Iterate over the metadata and extract the id, title, and abstract of papers published between 2020 and 2023\n",
    "for paper in metadata:\n",
    "\n",
    "    ## Load the JSON data\n",
    "    paper_dict = json.loads(paper)\n",
    "\n",
    "    ## Extract the year and month from the paper id\n",
    "    paper_id = paper_dict.get('id')\n",
    "    paper_yymm = paper_id.split('.')[0]\n",
    "    paper_yy = paper_yymm[0:2]\n",
    "    # paper_mm = paper_yymm[2:4]\n",
    "\n",
    "    ## Check if the paper was published between 2020 and 2023\n",
    "    if 20 <= int(paper_yy) <= 23:\n",
    "\n",
    "        ## Extract the title and abstract\n",
    "        title = paper_dict.get('title')\n",
    "        abstract = paper_dict.get('abstract')\n",
    "\n",
    "        ## Create a new row with the extracted data\n",
    "        new_row = pd.DataFrame({'id': paper_id.lower(), 'title': title.lower(), 'abstract': abstract.lower()}, index=[0])\n",
    "\n",
    "        ## Append the new row to the dataframe\n",
    "        metadata_df = pd.concat([metadata_df, new_row], ignore_index=True)\n",
    "\n",
    "    ## If the paper is not published between 2020 and 2023, continue to the next paper\n",
    "    else:\n",
    "        continue\n",
    "\n"
   ]
  },
  {
   "cell_type": "code",
   "execution_count": 5,
   "metadata": {},
   "outputs": [],
   "source": [
    "## Get metadata from the JSON file, one line at a time\n",
    "metadata = get_metadata()\n",
    "\n",
    "## Create a pandas dataframe to store the id, title, abstract of of papers published between 2020 and 2023\n",
    "metadata_df = pd.DataFrame(columns=['id', 'title', 'abstract'])\n",
    "\n",
    "## Add a countere to only process the first n papers\n",
    "n = 10\n",
    "count = 0\n",
    "\n",
    "\n",
    "## Iterate over the metadata and extract the id, title, and abstract of papers published between 2020 and 2023\n",
    "for paper in metadata:\n",
    "\n",
    "    ## Increment the counter\n",
    "    count += 1\n",
    "\n",
    "    ## Load the JSON data\n",
    "    paper_dict = json.loads(paper)\n",
    "\n",
    "    ## Extract the year and month from the paper id\n",
    "    paper_id = paper_dict.get('id')\n",
    "    paper_yymm = paper_id.split('.')[0]\n",
    "    paper_yy = paper_yymm[0:2]\n",
    "    # paper_mm = paper_yymm[2:4]\n",
    "\n",
    "    ## Check if the paper was published between 2020 and 2023\n",
    "    if count <= n:\n",
    "\n",
    "        ## Extract the title and abstract\n",
    "        title = paper_dict.get('title')\n",
    "        abstract = paper_dict.get('abstract')\n",
    "\n",
    "        ## Create a new row with the extracted data\n",
    "        new_row = pd.DataFrame({'id': paper_id.lower(), 'title': title.lower(), 'abstract': abstract.lower()}, index=[0])\n",
    "\n",
    "        ## Append the new row to the dataframe\n",
    "        metadata_df = pd.concat([metadata_df, new_row], ignore_index=True)\n",
    "\n",
    "\n",
    "    ## If the paper is not published between 2020 and 2023, continue to the next paper\n",
    "    else:\n",
    "        break"
   ]
  },
  {
   "cell_type": "code",
   "execution_count": 6,
   "metadata": {},
   "outputs": [
    {
     "data": {
      "text/html": [
       "<div>\n",
       "<style scoped>\n",
       "    .dataframe tbody tr th:only-of-type {\n",
       "        vertical-align: middle;\n",
       "    }\n",
       "\n",
       "    .dataframe tbody tr th {\n",
       "        vertical-align: top;\n",
       "    }\n",
       "\n",
       "    .dataframe thead th {\n",
       "        text-align: right;\n",
       "    }\n",
       "</style>\n",
       "<table border=\"1\" class=\"dataframe\">\n",
       "  <thead>\n",
       "    <tr style=\"text-align: right;\">\n",
       "      <th></th>\n",
       "      <th>id</th>\n",
       "      <th>title</th>\n",
       "      <th>abstract</th>\n",
       "    </tr>\n",
       "  </thead>\n",
       "  <tbody>\n",
       "    <tr>\n",
       "      <th>0</th>\n",
       "      <td>0704.0001</td>\n",
       "      <td>calculation of prompt diphoton production cros...</td>\n",
       "      <td>a fully differential calculation in perturba...</td>\n",
       "    </tr>\n",
       "    <tr>\n",
       "      <th>1</th>\n",
       "      <td>0704.0002</td>\n",
       "      <td>sparsity-certifying graph decompositions</td>\n",
       "      <td>we describe a new algorithm, the $(k,\\ell)$-...</td>\n",
       "    </tr>\n",
       "    <tr>\n",
       "      <th>2</th>\n",
       "      <td>0704.0003</td>\n",
       "      <td>the evolution of the earth-moon system based o...</td>\n",
       "      <td>the evolution of earth-moon system is descri...</td>\n",
       "    </tr>\n",
       "    <tr>\n",
       "      <th>3</th>\n",
       "      <td>0704.0004</td>\n",
       "      <td>a determinant of stirling cycle numbers counts...</td>\n",
       "      <td>we show that a determinant of stirling cycle...</td>\n",
       "    </tr>\n",
       "    <tr>\n",
       "      <th>4</th>\n",
       "      <td>0704.0005</td>\n",
       "      <td>from dyadic $\\lambda_{\\alpha}$ to $\\lambda_{\\a...</td>\n",
       "      <td>in this paper we show how to compute the $\\l...</td>\n",
       "    </tr>\n",
       "  </tbody>\n",
       "</table>\n",
       "</div>"
      ],
      "text/plain": [
       "          id                                              title  \\\n",
       "0  0704.0001  calculation of prompt diphoton production cros...   \n",
       "1  0704.0002           sparsity-certifying graph decompositions   \n",
       "2  0704.0003  the evolution of the earth-moon system based o...   \n",
       "3  0704.0004  a determinant of stirling cycle numbers counts...   \n",
       "4  0704.0005  from dyadic $\\lambda_{\\alpha}$ to $\\lambda_{\\a...   \n",
       "\n",
       "                                            abstract  \n",
       "0    a fully differential calculation in perturba...  \n",
       "1    we describe a new algorithm, the $(k,\\ell)$-...  \n",
       "2    the evolution of earth-moon system is descri...  \n",
       "3    we show that a determinant of stirling cycle...  \n",
       "4    in this paper we show how to compute the $\\l...  "
      ]
     },
     "execution_count": 6,
     "metadata": {},
     "output_type": "execute_result"
    }
   ],
   "source": [
    "## Display the first few rows of the dataframe\n",
    "(metadata_df.head())"
   ]
  },
  {
   "cell_type": "code",
   "execution_count": 23,
   "metadata": {},
   "outputs": [
    {
     "data": {
      "text/plain": [
       "(10, 3)"
      ]
     },
     "execution_count": 23,
     "metadata": {},
     "output_type": "execute_result"
    }
   ],
   "source": [
    "metadata_df.shape"
   ]
  },
  {
   "cell_type": "code",
   "execution_count": 8,
   "metadata": {},
   "outputs": [],
   "source": [
    "## Save the dataframe to a parquet file\n",
    "metadata_df.to_parquet('kaggle/tmp_metadata.parquet')\n"
   ]
  },
  {
   "cell_type": "code",
   "execution_count": 9,
   "metadata": {},
   "outputs": [
    {
     "data": {
      "text/html": [
       "<div>\n",
       "<style scoped>\n",
       "    .dataframe tbody tr th:only-of-type {\n",
       "        vertical-align: middle;\n",
       "    }\n",
       "\n",
       "    .dataframe tbody tr th {\n",
       "        vertical-align: top;\n",
       "    }\n",
       "\n",
       "    .dataframe thead th {\n",
       "        text-align: right;\n",
       "    }\n",
       "</style>\n",
       "<table border=\"1\" class=\"dataframe\">\n",
       "  <thead>\n",
       "    <tr style=\"text-align: right;\">\n",
       "      <th></th>\n",
       "      <th>id</th>\n",
       "      <th>title</th>\n",
       "      <th>abstract</th>\n",
       "    </tr>\n",
       "  </thead>\n",
       "  <tbody>\n",
       "    <tr>\n",
       "      <th>0</th>\n",
       "      <td>0704.0001</td>\n",
       "      <td>calculation of prompt diphoton production cros...</td>\n",
       "      <td>a fully differential calculation in perturba...</td>\n",
       "    </tr>\n",
       "    <tr>\n",
       "      <th>1</th>\n",
       "      <td>0704.0002</td>\n",
       "      <td>sparsity-certifying graph decompositions</td>\n",
       "      <td>we describe a new algorithm, the $(k,\\ell)$-...</td>\n",
       "    </tr>\n",
       "    <tr>\n",
       "      <th>2</th>\n",
       "      <td>0704.0003</td>\n",
       "      <td>the evolution of the earth-moon system based o...</td>\n",
       "      <td>the evolution of earth-moon system is descri...</td>\n",
       "    </tr>\n",
       "    <tr>\n",
       "      <th>3</th>\n",
       "      <td>0704.0004</td>\n",
       "      <td>a determinant of stirling cycle numbers counts...</td>\n",
       "      <td>we show that a determinant of stirling cycle...</td>\n",
       "    </tr>\n",
       "    <tr>\n",
       "      <th>4</th>\n",
       "      <td>0704.0005</td>\n",
       "      <td>from dyadic $\\lambda_{\\alpha}$ to $\\lambda_{\\a...</td>\n",
       "      <td>in this paper we show how to compute the $\\l...</td>\n",
       "    </tr>\n",
       "  </tbody>\n",
       "</table>\n",
       "</div>"
      ],
      "text/plain": [
       "          id                                              title  \\\n",
       "0  0704.0001  calculation of prompt diphoton production cros...   \n",
       "1  0704.0002           sparsity-certifying graph decompositions   \n",
       "2  0704.0003  the evolution of the earth-moon system based o...   \n",
       "3  0704.0004  a determinant of stirling cycle numbers counts...   \n",
       "4  0704.0005  from dyadic $\\lambda_{\\alpha}$ to $\\lambda_{\\a...   \n",
       "\n",
       "                                            abstract  \n",
       "0    a fully differential calculation in perturba...  \n",
       "1    we describe a new algorithm, the $(k,\\ell)$-...  \n",
       "2    the evolution of earth-moon system is descri...  \n",
       "3    we show that a determinant of stirling cycle...  \n",
       "4    in this paper we show how to compute the $\\l...  "
      ]
     },
     "execution_count": 9,
     "metadata": {},
     "output_type": "execute_result"
    }
   ],
   "source": [
    "## Load the parquet file\n",
    "metadata_df = pd.read_parquet('kaggle/tmp_metadata.parquet')\n",
    "\n",
    "## Display the first few rows of the dataframe\n",
    "(metadata_df.head())"
   ]
  }
 ],
 "metadata": {
  "kernelspec": {
   "display_name": "km",
   "language": "python",
   "name": "python3"
  },
  "language_info": {
   "codemirror_mode": {
    "name": "ipython",
    "version": 3
   },
   "file_extension": ".py",
   "mimetype": "text/x-python",
   "name": "python",
   "nbconvert_exporter": "python",
   "pygments_lexer": "ipython3",
   "version": "3.11.8"
  }
 },
 "nbformat": 4,
 "nbformat_minor": 2
}
