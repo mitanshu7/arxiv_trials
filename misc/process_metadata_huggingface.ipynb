{
 "cells": [
  {
   "cell_type": "code",
   "execution_count": null,
   "metadata": {},
   "outputs": [],
   "source": [
    "from datasets import load_dataset\n"
   ]
  },
  {
   "cell_type": "code",
   "execution_count": null,
   "metadata": {},
   "outputs": [],
   "source": []
  },
  {
   "cell_type": "code",
   "execution_count": null,
   "metadata": {},
   "outputs": [],
   "source": [
    "def merge(yy_list):\n",
    "\n",
    "    for yy in yy_list:\n",
    "\n",
    "        REPO_ID = \"bluuebunny/arxiv_metadata_by_year\"\n",
    "        FILENAME = f'data/arxiv_metadata_20{yy}.parquet'\n",
    "        \n",
    "        dataset = load_dataset(REPO_ID, data_files=FILENAME, verification_mode='no_checks')"
   ]
  },
  {
   "cell_type": "code",
   "execution_count": null,
   "metadata": {},
   "outputs": [],
   "source": []
  },
  {
   "cell_type": "code",
   "execution_count": null,
   "metadata": {},
   "outputs": [],
   "source": []
  },
  {
   "cell_type": "code",
   "execution_count": 1,
   "metadata": {},
   "outputs": [
    {
     "name": "stderr",
     "output_type": "stream",
     "text": [
      "c:\\Users\\mitanshu.LAB-WORKSTATION\\miniforge3\\envs\\arxiv\\Lib\\site-packages\\tqdm\\auto.py:21: TqdmWarning: IProgress not found. Please update jupyter and ipywidgets. See https://ipywidgets.readthedocs.io/en/stable/user_install.html\n",
      "  from .autonotebook import tqdm as notebook_tqdm\n"
     ]
    }
   ],
   "source": [
    "from datasets import load_dataset\n",
    "\n",
    "dataset = load_dataset(\"bluuebunny/arxiv_metadata_by_year\", data_files='data/arxiv_metadata_2007.parquet', verification_mode='no_checks')"
   ]
  },
  {
   "cell_type": "code",
   "execution_count": 3,
   "metadata": {},
   "outputs": [
    {
     "data": {
      "text/html": [
       "<div>\n",
       "<style scoped>\n",
       "    .dataframe tbody tr th:only-of-type {\n",
       "        vertical-align: middle;\n",
       "    }\n",
       "\n",
       "    .dataframe tbody tr th {\n",
       "        vertical-align: top;\n",
       "    }\n",
       "\n",
       "    .dataframe thead th {\n",
       "        text-align: right;\n",
       "    }\n",
       "</style>\n",
       "<table border=\"1\" class=\"dataframe\">\n",
       "  <thead>\n",
       "    <tr style=\"text-align: right;\">\n",
       "      <th></th>\n",
       "      <th>id</th>\n",
       "      <th>submitter</th>\n",
       "      <th>authors</th>\n",
       "      <th>title</th>\n",
       "      <th>comments</th>\n",
       "      <th>journal-ref</th>\n",
       "      <th>doi</th>\n",
       "      <th>report-no</th>\n",
       "      <th>categories</th>\n",
       "      <th>license</th>\n",
       "      <th>abstract</th>\n",
       "      <th>versions</th>\n",
       "      <th>update_date</th>\n",
       "      <th>authors_parsed</th>\n",
       "    </tr>\n",
       "  </thead>\n",
       "  <tbody>\n",
       "    <tr>\n",
       "      <th>0</th>\n",
       "      <td>0704.0001</td>\n",
       "      <td>Pavel Nadolsky</td>\n",
       "      <td>C. Bal\\'azs, E. L. Berger, P. M. Nadolsky, C.-...</td>\n",
       "      <td>Calculation of prompt diphoton production cros...</td>\n",
       "      <td>37 pages, 15 figures; published version</td>\n",
       "      <td>Phys.Rev.D76:013009,2007</td>\n",
       "      <td>10.1103/PhysRevD.76.013009</td>\n",
       "      <td>ANL-HEP-PR-07-12</td>\n",
       "      <td>hep-ph</td>\n",
       "      <td>None</td>\n",
       "      <td>A fully differential calculation in perturba...</td>\n",
       "      <td>b'[{\"version\":\"v1\",\"created\":\"Mon, 2 Apr 2007 ...</td>\n",
       "      <td>2008-11-26</td>\n",
       "      <td>b'[[\"Bal\\\\u00e1zs\",\"C.\",\"\"],[\"Berger\",\"E. L.\",...</td>\n",
       "    </tr>\n",
       "    <tr>\n",
       "      <th>1</th>\n",
       "      <td>0704.0002</td>\n",
       "      <td>Louis Theran</td>\n",
       "      <td>Ileana Streinu and Louis Theran</td>\n",
       "      <td>Sparsity-certifying Graph Decompositions</td>\n",
       "      <td>To appear in Graphs and Combinatorics</td>\n",
       "      <td>None</td>\n",
       "      <td>None</td>\n",
       "      <td>None</td>\n",
       "      <td>math.CO cs.CG</td>\n",
       "      <td>http://arxiv.org/licenses/nonexclusive-distrib...</td>\n",
       "      <td>We describe a new algorithm, the $(k,\\ell)$-...</td>\n",
       "      <td>b'[{\"version\":\"v1\",\"created\":\"Sat, 31 Mar 2007...</td>\n",
       "      <td>2008-12-13</td>\n",
       "      <td>b'[[\"Streinu\",\"Ileana\",\"\"],[\"Theran\",\"Louis\",\"...</td>\n",
       "    </tr>\n",
       "    <tr>\n",
       "      <th>2</th>\n",
       "      <td>0704.0003</td>\n",
       "      <td>Hongjun Pan</td>\n",
       "      <td>Hongjun Pan</td>\n",
       "      <td>The evolution of the Earth-Moon system based o...</td>\n",
       "      <td>23 pages, 3 figures</td>\n",
       "      <td>None</td>\n",
       "      <td>None</td>\n",
       "      <td>None</td>\n",
       "      <td>physics.gen-ph</td>\n",
       "      <td>None</td>\n",
       "      <td>The evolution of Earth-Moon system is descri...</td>\n",
       "      <td>b'[{\"version\":\"v1\",\"created\":\"Sun, 1 Apr 2007 ...</td>\n",
       "      <td>2008-01-13</td>\n",
       "      <td>b'[[\"Pan\",\"Hongjun\",\"\"]]'</td>\n",
       "    </tr>\n",
       "    <tr>\n",
       "      <th>3</th>\n",
       "      <td>0704.0004</td>\n",
       "      <td>David Callan</td>\n",
       "      <td>David Callan</td>\n",
       "      <td>A determinant of Stirling cycle numbers counts...</td>\n",
       "      <td>11 pages</td>\n",
       "      <td>None</td>\n",
       "      <td>None</td>\n",
       "      <td>None</td>\n",
       "      <td>math.CO</td>\n",
       "      <td>None</td>\n",
       "      <td>We show that a determinant of Stirling cycle...</td>\n",
       "      <td>b'[{\"version\":\"v1\",\"created\":\"Sat, 31 Mar 2007...</td>\n",
       "      <td>2007-05-23</td>\n",
       "      <td>b'[[\"Callan\",\"David\",\"\"]]'</td>\n",
       "    </tr>\n",
       "    <tr>\n",
       "      <th>4</th>\n",
       "      <td>0704.0005</td>\n",
       "      <td>Alberto Torchinsky</td>\n",
       "      <td>Wael Abu-Shammala and Alberto Torchinsky</td>\n",
       "      <td>From dyadic $\\Lambda_{\\alpha}$ to $\\Lambda_{\\a...</td>\n",
       "      <td>None</td>\n",
       "      <td>Illinois J. Math. 52 (2008) no.2, 681-689</td>\n",
       "      <td>None</td>\n",
       "      <td>None</td>\n",
       "      <td>math.CA math.FA</td>\n",
       "      <td>None</td>\n",
       "      <td>In this paper we show how to compute the $\\L...</td>\n",
       "      <td>b'[{\"version\":\"v1\",\"created\":\"Mon, 2 Apr 2007 ...</td>\n",
       "      <td>2013-10-15</td>\n",
       "      <td>b'[[\"Abu-Shammala\",\"Wael\",\"\"],[\"Torchinsky\",\"A...</td>\n",
       "    </tr>\n",
       "  </tbody>\n",
       "</table>\n",
       "</div>"
      ],
      "text/plain": [
       "          id           submitter  \\\n",
       "0  0704.0001      Pavel Nadolsky   \n",
       "1  0704.0002        Louis Theran   \n",
       "2  0704.0003         Hongjun Pan   \n",
       "3  0704.0004        David Callan   \n",
       "4  0704.0005  Alberto Torchinsky   \n",
       "\n",
       "                                             authors  \\\n",
       "0  C. Bal\\'azs, E. L. Berger, P. M. Nadolsky, C.-...   \n",
       "1                    Ileana Streinu and Louis Theran   \n",
       "2                                        Hongjun Pan   \n",
       "3                                       David Callan   \n",
       "4           Wael Abu-Shammala and Alberto Torchinsky   \n",
       "\n",
       "                                               title  \\\n",
       "0  Calculation of prompt diphoton production cros...   \n",
       "1           Sparsity-certifying Graph Decompositions   \n",
       "2  The evolution of the Earth-Moon system based o...   \n",
       "3  A determinant of Stirling cycle numbers counts...   \n",
       "4  From dyadic $\\Lambda_{\\alpha}$ to $\\Lambda_{\\a...   \n",
       "\n",
       "                                  comments  \\\n",
       "0  37 pages, 15 figures; published version   \n",
       "1    To appear in Graphs and Combinatorics   \n",
       "2                      23 pages, 3 figures   \n",
       "3                                 11 pages   \n",
       "4                                     None   \n",
       "\n",
       "                                 journal-ref                         doi  \\\n",
       "0                   Phys.Rev.D76:013009,2007  10.1103/PhysRevD.76.013009   \n",
       "1                                       None                        None   \n",
       "2                                       None                        None   \n",
       "3                                       None                        None   \n",
       "4  Illinois J. Math. 52 (2008) no.2, 681-689                        None   \n",
       "\n",
       "          report-no       categories  \\\n",
       "0  ANL-HEP-PR-07-12           hep-ph   \n",
       "1              None    math.CO cs.CG   \n",
       "2              None   physics.gen-ph   \n",
       "3              None          math.CO   \n",
       "4              None  math.CA math.FA   \n",
       "\n",
       "                                             license  \\\n",
       "0                                               None   \n",
       "1  http://arxiv.org/licenses/nonexclusive-distrib...   \n",
       "2                                               None   \n",
       "3                                               None   \n",
       "4                                               None   \n",
       "\n",
       "                                            abstract  \\\n",
       "0    A fully differential calculation in perturba...   \n",
       "1    We describe a new algorithm, the $(k,\\ell)$-...   \n",
       "2    The evolution of Earth-Moon system is descri...   \n",
       "3    We show that a determinant of Stirling cycle...   \n",
       "4    In this paper we show how to compute the $\\L...   \n",
       "\n",
       "                                            versions update_date  \\\n",
       "0  b'[{\"version\":\"v1\",\"created\":\"Mon, 2 Apr 2007 ...  2008-11-26   \n",
       "1  b'[{\"version\":\"v1\",\"created\":\"Sat, 31 Mar 2007...  2008-12-13   \n",
       "2  b'[{\"version\":\"v1\",\"created\":\"Sun, 1 Apr 2007 ...  2008-01-13   \n",
       "3  b'[{\"version\":\"v1\",\"created\":\"Sat, 31 Mar 2007...  2007-05-23   \n",
       "4  b'[{\"version\":\"v1\",\"created\":\"Mon, 2 Apr 2007 ...  2013-10-15   \n",
       "\n",
       "                                      authors_parsed  \n",
       "0  b'[[\"Bal\\\\u00e1zs\",\"C.\",\"\"],[\"Berger\",\"E. L.\",...  \n",
       "1  b'[[\"Streinu\",\"Ileana\",\"\"],[\"Theran\",\"Louis\",\"...  \n",
       "2                          b'[[\"Pan\",\"Hongjun\",\"\"]]'  \n",
       "3                         b'[[\"Callan\",\"David\",\"\"]]'  \n",
       "4  b'[[\"Abu-Shammala\",\"Wael\",\"\"],[\"Torchinsky\",\"A...  "
      ]
     },
     "execution_count": 3,
     "metadata": {},
     "output_type": "execute_result"
    }
   ],
   "source": [
    "# Assuming 'dataset' holds your loaded dataset\n",
    "df = dataset['train'].to_pandas()\n",
    "\n",
    "# Now you can use pandas methods on the DataFrame 'df'\n",
    "(df.head())  # Display the first few rows"
   ]
  },
  {
   "cell_type": "code",
   "execution_count": null,
   "metadata": {},
   "outputs": [],
   "source": []
  },
  {
   "cell_type": "code",
   "execution_count": 5,
   "metadata": {},
   "outputs": [
    {
     "data": {
      "text/plain": [
       "Dataset({\n",
       "    features: ['id', 'submitter', 'authors', 'title', 'comments', 'journal-ref', 'doi', 'report-no', 'categories', 'license', 'abstract', 'versions', 'update_date', 'authors_parsed'],\n",
       "    num_rows: 42328\n",
       "})"
      ]
     },
     "execution_count": 5,
     "metadata": {},
     "output_type": "execute_result"
    }
   ],
   "source": [
    "offline_dataset = load_dataset('parquet', data_files='arxiv_metadata_by_year/arxiv_metadata_2007.parquet')\n",
    "offline_dataset['train']"
   ]
  },
  {
   "cell_type": "code",
   "execution_count": null,
   "metadata": {},
   "outputs": [],
   "source": []
  },
  {
   "cell_type": "code",
   "execution_count": 12,
   "metadata": {},
   "outputs": [],
   "source": [
    "from huggingface_hub import hf_hub_download\n",
    "\n",
    "REPO_ID = \"bluuebunny/arxiv_metadata_by_year\"\n",
    "FILENAME = 'data/arxiv_metadata_2007.parquet'\n",
    "\n",
    "data_file_path = hf_hub_download(repo_id=REPO_ID, filename=FILENAME, repo_type='dataset')"
   ]
  },
  {
   "cell_type": "code",
   "execution_count": 14,
   "metadata": {},
   "outputs": [
    {
     "name": "stderr",
     "output_type": "stream",
     "text": [
      "Generating train split: 42328 examples [00:00, 434547.37 examples/s]\n"
     ]
    },
    {
     "data": {
      "text/plain": [
       "Dataset({\n",
       "    features: ['id', 'submitter', 'authors', 'title', 'comments', 'journal-ref', 'doi', 'report-no', 'categories', 'license', 'abstract', 'versions', 'update_date', 'authors_parsed'],\n",
       "    num_rows: 42328\n",
       "})"
      ]
     },
     "execution_count": 14,
     "metadata": {},
     "output_type": "execute_result"
    }
   ],
   "source": [
    "dataset = load_dataset(\"parquet\", data_files=data_file_path)\n",
    "dataset['train']"
   ]
  },
  {
   "cell_type": "code",
   "execution_count": null,
   "metadata": {},
   "outputs": [],
   "source": []
  },
  {
   "cell_type": "code",
   "execution_count": 17,
   "metadata": {},
   "outputs": [
    {
     "data": {
      "text/plain": [
       "['0701',\n",
       " '0702',\n",
       " '0703',\n",
       " '0704',\n",
       " '0705',\n",
       " '0706',\n",
       " '0707',\n",
       " '0708',\n",
       " '0709',\n",
       " '0710',\n",
       " '0711',\n",
       " '0712']"
      ]
     },
     "execution_count": 17,
     "metadata": {},
     "output_type": "execute_result"
    }
   ],
   "source": [
    "def create_yymm_list(start_year, end_year):\n",
    "    start_year = start_year % 100\n",
    "    end_year = end_year % 100\n",
    "    yymm_list = []\n",
    "    for year in range(start_year, end_year + 1):\n",
    "        for month in range(1, 13):\n",
    "            yymm = year * 100 + month\n",
    "\n",
    "            ## Pad a 0 if the year is less than 10\n",
    "            if len(str(yymm)) == 3:\n",
    "                yymm = '0' + str(yymm)\n",
    "                \n",
    "            yymm_list.append(yymm)\n",
    "\n",
    "    ## Convert the yymm list to string\n",
    "    yymm_list = [str(i) for i in yymm_list]\n",
    "\n",
    "    return yymm_list\n",
    "\n",
    "yymm_list = create_yymm_list(2007, 2007)\n",
    "yymm_list"
   ]
  },
  {
   "cell_type": "code",
   "execution_count": 1,
   "metadata": {},
   "outputs": [],
   "source": [
    "def create_yy_list(start_year, end_year):\n",
    "    \n",
    "    start_year = start_year % 100\n",
    "    end_year = end_year % 100\n",
    "\n",
    "    yy_list = range(start_year, end_year + 1)\n",
    "        \n",
    "    ## Convert the yymm list to string\n",
    "    ## Pad a 0 if the year is less than 10\n",
    "    yy_list = ['0' + str(i) if len(str(i)) == 1 else str(i) for i in yy_list]\n",
    "\n",
    "    return yy_list\n",
    "\n"
   ]
  },
  {
   "cell_type": "code",
   "execution_count": 3,
   "metadata": {},
   "outputs": [
    {
     "data": {
      "text/plain": [
       "['19']"
      ]
     },
     "execution_count": 3,
     "metadata": {},
     "output_type": "execute_result"
    }
   ],
   "source": [
    "yy_list = create_yy_list(2019, 2019)\n",
    "yy_list"
   ]
  },
  {
   "cell_type": "code",
   "execution_count": 32,
   "metadata": {},
   "outputs": [
    {
     "data": {
      "text/plain": [
       "['C:\\\\Users\\\\mitanshu.LAB-WORKSTATION\\\\.cache\\\\huggingface\\\\hub\\\\datasets--bluuebunny--arxiv_metadata_by_year\\\\snapshots\\\\c1380c3e7ff76bcbfe4d1018954e7fed53205b9b\\\\data\\\\arxiv_metadata_2018.parquet',\n",
       " 'C:\\\\Users\\\\mitanshu.LAB-WORKSTATION\\\\.cache\\\\huggingface\\\\hub\\\\datasets--bluuebunny--arxiv_metadata_by_year\\\\snapshots\\\\c1380c3e7ff76bcbfe4d1018954e7fed53205b9b\\\\data\\\\arxiv_metadata_2019.parquet']"
      ]
     },
     "execution_count": 32,
     "metadata": {},
     "output_type": "execute_result"
    }
   ],
   "source": [
    "yy_list = create_yy_list(2018, 2019)\n",
    "\n",
    "data_file_paths = []\n",
    "for yy in yy_list:\n",
    "    \n",
    "    FILENAME = f'data/arxiv_metadata_20{yy}.parquet'\n",
    "\n",
    "    data_file_paths.append(hf_hub_download(repo_id=REPO_ID, filename=FILENAME, repo_type='dataset'))\n",
    "\n",
    "data_file_paths"
   ]
  },
  {
   "cell_type": "code",
   "execution_count": 30,
   "metadata": {},
   "outputs": [
    {
     "ename": "AttributeError",
     "evalue": "'list' object has no attribute 'find'",
     "output_type": "error",
     "traceback": [
      "\u001b[1;31m---------------------------------------------------------------------------\u001b[0m",
      "\u001b[1;31mAttributeError\u001b[0m                            Traceback (most recent call last)",
      "Cell \u001b[1;32mIn[30], line 1\u001b[0m\n\u001b[1;32m----> 1\u001b[0m \u001b[43mdata_file_paths\u001b[49m\u001b[38;5;241;43m.\u001b[39;49m\u001b[43mfind\u001b[49m(\u001b[38;5;124m'\u001b[39m\u001b[38;5;124m2020\u001b[39m\u001b[38;5;124m'\u001b[39m)\n",
      "\u001b[1;31mAttributeError\u001b[0m: 'list' object has no attribute 'find'"
     ]
    }
   ],
   "source": [
    "data_file_paths."
   ]
  }
 ],
 "metadata": {
  "kernelspec": {
   "display_name": "arxiv",
   "language": "python",
   "name": "python3"
  },
  "language_info": {
   "codemirror_mode": {
    "name": "ipython",
    "version": 3
   },
   "file_extension": ".py",
   "mimetype": "text/x-python",
   "name": "python",
   "nbconvert_exporter": "python",
   "pygments_lexer": "ipython3",
   "version": "3.12.2"
  }
 },
 "nbformat": 4,
 "nbformat_minor": 2
}
