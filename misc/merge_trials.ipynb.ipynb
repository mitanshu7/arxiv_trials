{
 "cells": [
  {
   "cell_type": "code",
   "execution_count": 15,
   "metadata": {},
   "outputs": [],
   "source": [
    "import pandas as pd\n"
   ]
  },
  {
   "cell_type": "code",
   "execution_count": 16,
   "metadata": {},
   "outputs": [
    {
     "data": {
      "text/html": [
       "<div>\n",
       "<style scoped>\n",
       "    .dataframe tbody tr th:only-of-type {\n",
       "        vertical-align: middle;\n",
       "    }\n",
       "\n",
       "    .dataframe tbody tr th {\n",
       "        vertical-align: top;\n",
       "    }\n",
       "\n",
       "    .dataframe thead th {\n",
       "        text-align: right;\n",
       "    }\n",
       "</style>\n",
       "<table border=\"1\" class=\"dataframe\">\n",
       "  <thead>\n",
       "    <tr style=\"text-align: right;\">\n",
       "      <th></th>\n",
       "      <th>id</th>\n",
       "      <th>title</th>\n",
       "      <th>abstract</th>\n",
       "      <th>article</th>\n",
       "    </tr>\n",
       "  </thead>\n",
       "  <tbody>\n",
       "    <tr>\n",
       "      <th>0</th>\n",
       "      <td>1901.00001</td>\n",
       "      <td>Impact of Ground Truth Annotation Quality on P...</td>\n",
       "      <td>Preparation of high-quality datasets for the...</td>\n",
       "      <td>introduction\\n\\nthe current tendency in semant...</td>\n",
       "    </tr>\n",
       "    <tr>\n",
       "      <th>1</th>\n",
       "      <td>1901.00002</td>\n",
       "      <td>Black Holes in the Turbulent Phase of Viscous ...</td>\n",
       "      <td>We study the phantom fluid in the late unive...</td>\n",
       "      <td>introduction\\n\\nthe observable universe is in ...</td>\n",
       "    </tr>\n",
       "    <tr>\n",
       "      <th>2</th>\n",
       "      <td>1901.00003</td>\n",
       "      <td>Learning Spatial Common Sense with Geometry-Aw...</td>\n",
       "      <td>We integrate two powerful ideas, geometry an...</td>\n",
       "      <td>introduction\\ncurrent state-of-the-art visual ...</td>\n",
       "    </tr>\n",
       "    <tr>\n",
       "      <th>3</th>\n",
       "      <td>1901.00004</td>\n",
       "      <td>Private Information Retrieval from Non-Replica...</td>\n",
       "      <td>We consider the problem of private informati...</td>\n",
       "      <td>introduction\\n\\nprivate information retrieval ...</td>\n",
       "    </tr>\n",
       "    <tr>\n",
       "      <th>4</th>\n",
       "      <td>1901.00005</td>\n",
       "      <td>An Extreme Amplitude, Massive Heartbeat System...</td>\n",
       "      <td>Using ASAS-SN data, we find that the bright ...</td>\n",
       "      <td>introduction\\n\\nheartbeat stars are short peri...</td>\n",
       "    </tr>\n",
       "  </tbody>\n",
       "</table>\n",
       "</div>"
      ],
      "text/plain": [
       "           id                                              title  \\\n",
       "0  1901.00001  Impact of Ground Truth Annotation Quality on P...   \n",
       "1  1901.00002  Black Holes in the Turbulent Phase of Viscous ...   \n",
       "2  1901.00003  Learning Spatial Common Sense with Geometry-Aw...   \n",
       "3  1901.00004  Private Information Retrieval from Non-Replica...   \n",
       "4  1901.00005  An Extreme Amplitude, Massive Heartbeat System...   \n",
       "\n",
       "                                            abstract  \\\n",
       "0    Preparation of high-quality datasets for the...   \n",
       "1    We study the phantom fluid in the late unive...   \n",
       "2    We integrate two powerful ideas, geometry an...   \n",
       "3    We consider the problem of private informati...   \n",
       "4    Using ASAS-SN data, we find that the bright ...   \n",
       "\n",
       "                                             article  \n",
       "0  introduction\\n\\nthe current tendency in semant...  \n",
       "1  introduction\\n\\nthe observable universe is in ...  \n",
       "2  introduction\\ncurrent state-of-the-art visual ...  \n",
       "3  introduction\\n\\nprivate information retrieval ...  \n",
       "4  introduction\\n\\nheartbeat stars are short peri...  "
      ]
     },
     "execution_count": 16,
     "metadata": {},
     "output_type": "execute_result"
    }
   ],
   "source": [
    "df = pd.read_parquet('arxiv_dataset_2019_to_2019/arxiv_dataset_2019.parquet')\n",
    "df.head()"
   ]
  },
  {
   "cell_type": "code",
   "execution_count": null,
   "metadata": {},
   "outputs": [],
   "source": []
  },
  {
   "cell_type": "code",
   "execution_count": null,
   "metadata": {},
   "outputs": [],
   "source": []
  },
  {
   "cell_type": "code",
   "execution_count": null,
   "metadata": {},
   "outputs": [],
   "source": []
  },
  {
   "cell_type": "code",
   "execution_count": 3,
   "metadata": {},
   "outputs": [],
   "source": [
    "import os\n",
    "from glob import glob"
   ]
  },
  {
   "cell_type": "code",
   "execution_count": null,
   "metadata": {},
   "outputs": [],
   "source": []
  },
  {
   "cell_type": "code",
   "execution_count": 9,
   "metadata": {},
   "outputs": [],
   "source": [
    "## Function to extract the id from the file path\n",
    "def extract_id_from_file(file_path):\n",
    "\n",
    "    ## Extract the original filename from the file path\n",
    "    original_filename = os.path.basename(file_path)\n",
    "\n",
    "    ## Extract the id from the original filename\n",
    "    id_without_version = original_filename.split('v')[0]\n",
    "\n",
    "    return id_without_version"
   ]
  },
  {
   "cell_type": "code",
   "execution_count": 14,
   "metadata": {},
   "outputs": [],
   "source": [
    "## Get a list of all txt files from the extracted_articles\n",
    "yy=19\n",
    "txt_files = glob(f'extracted_articles/unprocessed_txts/{yy}*/**/*.txt', recursive=True)\n",
    "txt_files.sort()\n"
   ]
  },
  {
   "cell_type": "code",
   "execution_count": 5,
   "metadata": {},
   "outputs": [],
   "source": [
    "for yy in yy_list:\n",
    "\n",
    "    ## Get a list of all txt files from the extracted_articles\n",
    "    txt_files = glob(f'extracted_articles/unprocessed_txts/{yy}*/**/*.txt', recursive=True)\n",
    "    txt_files.sort()\n"
   ]
  },
  {
   "cell_type": "code",
   "execution_count": 11,
   "metadata": {},
   "outputs": [],
   "source": [
    "import pandas as pd"
   ]
  },
  {
   "cell_type": "code",
   "execution_count": null,
   "metadata": {},
   "outputs": [],
   "source": [
    "## Function to process a file\n",
    "def process_file(file_path):\n",
    "\n",
    "    ## Extract the id from the file path\n",
    "    id_without_version = extract_id_from_file(file_path)\n",
    "\n",
    "    ## Get the metadata for the id\n",
    "    metadata = metadata_df[metadata_df['id'] == id_without_version]\n",
    "\n",
    "    ## If the metadata is found\n",
    "    if not metadata.empty:\n",
    "\n",
    "        ## Get the title, abstract and article\n",
    "        title = metadata['title'].values[0]\n",
    "        abstract = metadata['abstract'].values[0]\n",
    "\n",
    "        with open(file_path, 'r') as rf:\n",
    "            article = rf.read()\n",
    "\n",
    "        ## Create a new row\n",
    "        new_row = pd.DataFrame({'id': [id_without_version], 'title': [title], 'abstract': [abstract], 'article': [article]}, index=[0])\n",
    "\n",
    "        return new_row\n",
    "    else:\n",
    "        print(f\"Metadata not found for {id_without_version}\")\n",
    "        return None"
   ]
  }
 ],
 "metadata": {
  "kernelspec": {
   "display_name": "arxiv",
   "language": "python",
   "name": "python3"
  },
  "language_info": {
   "codemirror_mode": {
    "name": "ipython",
    "version": 3
   },
   "file_extension": ".py",
   "mimetype": "text/x-python",
   "name": "python",
   "nbconvert_exporter": "python",
   "pygments_lexer": "ipython3",
   "version": "3.12.2"
  }
 },
 "nbformat": 4,
 "nbformat_minor": 2
}
