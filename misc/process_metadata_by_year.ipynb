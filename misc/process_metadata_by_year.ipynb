{
 "cells": [
  {
   "cell_type": "code",
   "execution_count": 5,
   "metadata": {},
   "outputs": [
    {
     "data": {
      "text/plain": [
       "['0701',\n",
       " '0702',\n",
       " '0703',\n",
       " '0704',\n",
       " '0705',\n",
       " '0706',\n",
       " '0707',\n",
       " '0708',\n",
       " '0709',\n",
       " '0710',\n",
       " '0711',\n",
       " '0712',\n",
       " '0801',\n",
       " '0802',\n",
       " '0803',\n",
       " '0804',\n",
       " '0805',\n",
       " '0806',\n",
       " '0807',\n",
       " '0808',\n",
       " '0809',\n",
       " '0810',\n",
       " '0811',\n",
       " '0812']"
      ]
     },
     "execution_count": 5,
     "metadata": {},
     "output_type": "execute_result"
    }
   ],
   "source": [
    "## Creating a list for the year and month\n",
    "def create_yymm_list(start_year, end_year):\n",
    "    start_year = start_year % 100\n",
    "    end_year = end_year % 100\n",
    "    yymm_list = []\n",
    "    for year in range(start_year, end_year + 1):\n",
    "        for month in range(1, 13):\n",
    "            yymm = year * 100 + month\n",
    "\n",
    "            ## Pad a 0 if the year is less than 10\n",
    "            if len(str(yymm)) == 3:\n",
    "                yymm = '0' + str(yymm)\n",
    "            \n",
    "            yymm_list.append(yymm)\n",
    "\n",
    "    ## Convert the yymm list to string\n",
    "    yymm_list = [str(i) for i in yymm_list]\n",
    "\n",
    "    return yymm_list\n",
    "\n",
    "create_yymm_list(2007, 2008)"
   ]
  },
  {
   "cell_type": "code",
   "execution_count": 3,
   "metadata": {},
   "outputs": [
    {
     "data": {
      "text/plain": [
       "['10', '11', '12', '13', '14', '15', '16', '17', '18', '19', '20']"
      ]
     },
     "execution_count": 3,
     "metadata": {},
     "output_type": "execute_result"
    }
   ],
   "source": [
    "## Creating a list for the year and month\n",
    "def create_yy_list(start_year, end_year):\n",
    "    yy_list = []\n",
    "    for year in range(start_year, end_year + 1):\n",
    "        yy = year % 100\n",
    "\n",
    "        ## Pad a 0 if the year is less than 10\n",
    "        if len(str(yy)) == 1:\n",
    "            yy = '0' + str(yy)\n",
    "            \n",
    "        yy_list.append(yy)\n",
    "\n",
    "    ## Convert the yymm list to string\n",
    "    yy_list = [str(i) for i in yy_list]\n",
    "\n",
    "    return yy_list\n",
    "\n",
    "create_yy_list(2010, 2020)"
   ]
  }
 ],
 "metadata": {
  "kernelspec": {
   "display_name": "km",
   "language": "python",
   "name": "python3"
  },
  "language_info": {
   "codemirror_mode": {
    "name": "ipython",
    "version": 3
   },
   "file_extension": ".py",
   "mimetype": "text/x-python",
   "name": "python",
   "nbconvert_exporter": "python",
   "pygments_lexer": "ipython3",
   "version": "3.11.8"
  }
 },
 "nbformat": 4,
 "nbformat_minor": 2
}
