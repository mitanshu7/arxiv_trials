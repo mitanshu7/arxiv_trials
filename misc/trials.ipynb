{
 "cells": [
  {
   "cell_type": "code",
   "execution_count": 20,
   "metadata": {},
   "outputs": [],
   "source": [
    "from datasets import load_dataset\n",
    "\n",
    "dataset = load_dataset(\"bluuebunny/arxiv_metadata_by_year\", data_files='data/arxiv_metadata_2007.parquet', verification_mode='no_checks')"
   ]
  },
  {
   "cell_type": "code",
   "execution_count": 24,
   "metadata": {},
   "outputs": [
    {
     "data": {
      "text/plain": [
       "DatasetDict({\n",
       "    train: Dataset({\n",
       "        features: ['id', 'submitter', 'authors', 'title', 'comments', 'journal-ref', 'doi', 'report-no', 'categories', 'license', 'abstract', 'versions', 'update_date', 'authors_parsed'],\n",
       "        num_rows: 42328\n",
       "    })\n",
       "})"
      ]
     },
     "execution_count": 24,
     "metadata": {},
     "output_type": "execute_result"
    }
   ],
   "source": [
    "dataset"
   ]
  },
  {
   "cell_type": "code",
   "execution_count": 23,
   "metadata": {},
   "outputs": [
    {
     "data": {
      "text/html": [
       "<div>\n",
       "<style scoped>\n",
       "    .dataframe tbody tr th:only-of-type {\n",
       "        vertical-align: middle;\n",
       "    }\n",
       "\n",
       "    .dataframe tbody tr th {\n",
       "        vertical-align: top;\n",
       "    }\n",
       "\n",
       "    .dataframe thead th {\n",
       "        text-align: right;\n",
       "    }\n",
       "</style>\n",
       "<table border=\"1\" class=\"dataframe\">\n",
       "  <thead>\n",
       "    <tr style=\"text-align: right;\">\n",
       "      <th></th>\n",
       "      <th>id</th>\n",
       "      <th>submitter</th>\n",
       "      <th>authors</th>\n",
       "      <th>title</th>\n",
       "      <th>comments</th>\n",
       "      <th>journal-ref</th>\n",
       "      <th>doi</th>\n",
       "      <th>report-no</th>\n",
       "      <th>categories</th>\n",
       "      <th>license</th>\n",
       "      <th>abstract</th>\n",
       "      <th>versions</th>\n",
       "      <th>update_date</th>\n",
       "      <th>authors_parsed</th>\n",
       "    </tr>\n",
       "  </thead>\n",
       "  <tbody>\n",
       "    <tr>\n",
       "      <th>0</th>\n",
       "      <td>0704.0001</td>\n",
       "      <td>Pavel Nadolsky</td>\n",
       "      <td>C. Bal\\'azs, E. L. Berger, P. M. Nadolsky, C.-...</td>\n",
       "      <td>Calculation of prompt diphoton production cros...</td>\n",
       "      <td>37 pages, 15 figures; published version</td>\n",
       "      <td>Phys.Rev.D76:013009,2007</td>\n",
       "      <td>10.1103/PhysRevD.76.013009</td>\n",
       "      <td>ANL-HEP-PR-07-12</td>\n",
       "      <td>hep-ph</td>\n",
       "      <td>None</td>\n",
       "      <td>A fully differential calculation in perturba...</td>\n",
       "      <td>b'[{\"version\":\"v1\",\"created\":\"Mon, 2 Apr 2007 ...</td>\n",
       "      <td>2008-11-26</td>\n",
       "      <td>b'[[\"Bal\\\\u00e1zs\",\"C.\",\"\"],[\"Berger\",\"E. L.\",...</td>\n",
       "    </tr>\n",
       "    <tr>\n",
       "      <th>1</th>\n",
       "      <td>0704.0002</td>\n",
       "      <td>Louis Theran</td>\n",
       "      <td>Ileana Streinu and Louis Theran</td>\n",
       "      <td>Sparsity-certifying Graph Decompositions</td>\n",
       "      <td>To appear in Graphs and Combinatorics</td>\n",
       "      <td>None</td>\n",
       "      <td>None</td>\n",
       "      <td>None</td>\n",
       "      <td>math.CO cs.CG</td>\n",
       "      <td>http://arxiv.org/licenses/nonexclusive-distrib...</td>\n",
       "      <td>We describe a new algorithm, the $(k,\\ell)$-...</td>\n",
       "      <td>b'[{\"version\":\"v1\",\"created\":\"Sat, 31 Mar 2007...</td>\n",
       "      <td>2008-12-13</td>\n",
       "      <td>b'[[\"Streinu\",\"Ileana\",\"\"],[\"Theran\",\"Louis\",\"...</td>\n",
       "    </tr>\n",
       "    <tr>\n",
       "      <th>2</th>\n",
       "      <td>0704.0003</td>\n",
       "      <td>Hongjun Pan</td>\n",
       "      <td>Hongjun Pan</td>\n",
       "      <td>The evolution of the Earth-Moon system based o...</td>\n",
       "      <td>23 pages, 3 figures</td>\n",
       "      <td>None</td>\n",
       "      <td>None</td>\n",
       "      <td>None</td>\n",
       "      <td>physics.gen-ph</td>\n",
       "      <td>None</td>\n",
       "      <td>The evolution of Earth-Moon system is descri...</td>\n",
       "      <td>b'[{\"version\":\"v1\",\"created\":\"Sun, 1 Apr 2007 ...</td>\n",
       "      <td>2008-01-13</td>\n",
       "      <td>b'[[\"Pan\",\"Hongjun\",\"\"]]'</td>\n",
       "    </tr>\n",
       "    <tr>\n",
       "      <th>3</th>\n",
       "      <td>0704.0004</td>\n",
       "      <td>David Callan</td>\n",
       "      <td>David Callan</td>\n",
       "      <td>A determinant of Stirling cycle numbers counts...</td>\n",
       "      <td>11 pages</td>\n",
       "      <td>None</td>\n",
       "      <td>None</td>\n",
       "      <td>None</td>\n",
       "      <td>math.CO</td>\n",
       "      <td>None</td>\n",
       "      <td>We show that a determinant of Stirling cycle...</td>\n",
       "      <td>b'[{\"version\":\"v1\",\"created\":\"Sat, 31 Mar 2007...</td>\n",
       "      <td>2007-05-23</td>\n",
       "      <td>b'[[\"Callan\",\"David\",\"\"]]'</td>\n",
       "    </tr>\n",
       "    <tr>\n",
       "      <th>4</th>\n",
       "      <td>0704.0005</td>\n",
       "      <td>Alberto Torchinsky</td>\n",
       "      <td>Wael Abu-Shammala and Alberto Torchinsky</td>\n",
       "      <td>From dyadic $\\Lambda_{\\alpha}$ to $\\Lambda_{\\a...</td>\n",
       "      <td>None</td>\n",
       "      <td>Illinois J. Math. 52 (2008) no.2, 681-689</td>\n",
       "      <td>None</td>\n",
       "      <td>None</td>\n",
       "      <td>math.CA math.FA</td>\n",
       "      <td>None</td>\n",
       "      <td>In this paper we show how to compute the $\\L...</td>\n",
       "      <td>b'[{\"version\":\"v1\",\"created\":\"Mon, 2 Apr 2007 ...</td>\n",
       "      <td>2013-10-15</td>\n",
       "      <td>b'[[\"Abu-Shammala\",\"Wael\",\"\"],[\"Torchinsky\",\"A...</td>\n",
       "    </tr>\n",
       "  </tbody>\n",
       "</table>\n",
       "</div>"
      ],
      "text/plain": [
       "          id           submitter  \\\n",
       "0  0704.0001      Pavel Nadolsky   \n",
       "1  0704.0002        Louis Theran   \n",
       "2  0704.0003         Hongjun Pan   \n",
       "3  0704.0004        David Callan   \n",
       "4  0704.0005  Alberto Torchinsky   \n",
       "\n",
       "                                             authors  \\\n",
       "0  C. Bal\\'azs, E. L. Berger, P. M. Nadolsky, C.-...   \n",
       "1                    Ileana Streinu and Louis Theran   \n",
       "2                                        Hongjun Pan   \n",
       "3                                       David Callan   \n",
       "4           Wael Abu-Shammala and Alberto Torchinsky   \n",
       "\n",
       "                                               title  \\\n",
       "0  Calculation of prompt diphoton production cros...   \n",
       "1           Sparsity-certifying Graph Decompositions   \n",
       "2  The evolution of the Earth-Moon system based o...   \n",
       "3  A determinant of Stirling cycle numbers counts...   \n",
       "4  From dyadic $\\Lambda_{\\alpha}$ to $\\Lambda_{\\a...   \n",
       "\n",
       "                                  comments  \\\n",
       "0  37 pages, 15 figures; published version   \n",
       "1    To appear in Graphs and Combinatorics   \n",
       "2                      23 pages, 3 figures   \n",
       "3                                 11 pages   \n",
       "4                                     None   \n",
       "\n",
       "                                 journal-ref                         doi  \\\n",
       "0                   Phys.Rev.D76:013009,2007  10.1103/PhysRevD.76.013009   \n",
       "1                                       None                        None   \n",
       "2                                       None                        None   \n",
       "3                                       None                        None   \n",
       "4  Illinois J. Math. 52 (2008) no.2, 681-689                        None   \n",
       "\n",
       "          report-no       categories  \\\n",
       "0  ANL-HEP-PR-07-12           hep-ph   \n",
       "1              None    math.CO cs.CG   \n",
       "2              None   physics.gen-ph   \n",
       "3              None          math.CO   \n",
       "4              None  math.CA math.FA   \n",
       "\n",
       "                                             license  \\\n",
       "0                                               None   \n",
       "1  http://arxiv.org/licenses/nonexclusive-distrib...   \n",
       "2                                               None   \n",
       "3                                               None   \n",
       "4                                               None   \n",
       "\n",
       "                                            abstract  \\\n",
       "0    A fully differential calculation in perturba...   \n",
       "1    We describe a new algorithm, the $(k,\\ell)$-...   \n",
       "2    The evolution of Earth-Moon system is descri...   \n",
       "3    We show that a determinant of Stirling cycle...   \n",
       "4    In this paper we show how to compute the $\\L...   \n",
       "\n",
       "                                            versions update_date  \\\n",
       "0  b'[{\"version\":\"v1\",\"created\":\"Mon, 2 Apr 2007 ...  2008-11-26   \n",
       "1  b'[{\"version\":\"v1\",\"created\":\"Sat, 31 Mar 2007...  2008-12-13   \n",
       "2  b'[{\"version\":\"v1\",\"created\":\"Sun, 1 Apr 2007 ...  2008-01-13   \n",
       "3  b'[{\"version\":\"v1\",\"created\":\"Sat, 31 Mar 2007...  2007-05-23   \n",
       "4  b'[{\"version\":\"v1\",\"created\":\"Mon, 2 Apr 2007 ...  2013-10-15   \n",
       "\n",
       "                                      authors_parsed  \n",
       "0  b'[[\"Bal\\\\u00e1zs\",\"C.\",\"\"],[\"Berger\",\"E. L.\",...  \n",
       "1  b'[[\"Streinu\",\"Ileana\",\"\"],[\"Theran\",\"Louis\",\"...  \n",
       "2                          b'[[\"Pan\",\"Hongjun\",\"\"]]'  \n",
       "3                         b'[[\"Callan\",\"David\",\"\"]]'  \n",
       "4  b'[[\"Abu-Shammala\",\"Wael\",\"\"],[\"Torchinsky\",\"A...  "
      ]
     },
     "execution_count": 23,
     "metadata": {},
     "output_type": "execute_result"
    }
   ],
   "source": [
    "# Assuming 'dataset' holds your loaded dataset\n",
    "df = dataset['train'].to_pandas()\n",
    "\n",
    "# Now you can use pandas methods on the DataFrame 'df'\n",
    "(df.head())  # Display the first few rows"
   ]
  },
  {
   "cell_type": "code",
   "execution_count": 17,
   "metadata": {},
   "outputs": [
    {
     "name": "stdout",
     "output_type": "stream",
     "text": [
      "<class 'pandas.core.frame.DataFrame'>\n",
      "RangeIndex: 42328 entries, 0 to 42327\n",
      "Data columns (total 14 columns):\n",
      " #   Column          Non-Null Count  Dtype \n",
      "---  ------          --------------  ----- \n",
      " 0   id              42328 non-null  object\n",
      " 1   submitter       42328 non-null  object\n",
      " 2   authors         42328 non-null  object\n",
      " 3   title           42328 non-null  object\n",
      " 4   comments        37317 non-null  object\n",
      " 5   journal-ref     21920 non-null  object\n",
      " 6   doi             25735 non-null  object\n",
      " 7   report-no       4189 non-null   object\n",
      " 8   categories      42328 non-null  object\n",
      " 9   license         4135 non-null   object\n",
      " 10  abstract        42328 non-null  object\n",
      " 11  versions        42328 non-null  object\n",
      " 12  update_date     42328 non-null  object\n",
      " 13  authors_parsed  42328 non-null  object\n",
      "dtypes: object(14)\n",
      "memory usage: 4.5+ MB\n"
     ]
    },
    {
     "data": {
      "text/plain": [
       "4.521244049072266"
      ]
     },
     "execution_count": 17,
     "metadata": {},
     "output_type": "execute_result"
    }
   ],
   "source": [
    "df.info()\n",
    "df.memory_usage()\n",
    "df.memory_usage().sum()\n",
    "df.memory_usage().sum() / 1024**2"
   ]
  },
  {
   "cell_type": "code",
   "execution_count": null,
   "metadata": {},
   "outputs": [],
   "source": [
    "print(df.shape)  # Get the dimensions (rows, columns)"
   ]
  },
  {
   "cell_type": "code",
   "execution_count": null,
   "metadata": {},
   "outputs": [],
   "source": []
  },
  {
   "cell_type": "code",
   "execution_count": null,
   "metadata": {},
   "outputs": [],
   "source": []
  },
  {
   "cell_type": "code",
   "execution_count": null,
   "metadata": {},
   "outputs": [],
   "source": []
  },
  {
   "cell_type": "code",
   "execution_count": null,
   "metadata": {},
   "outputs": [],
   "source": [
    "import numpy as np\n",
    "import os\n",
    "from google.cloud.storage import Client, transfer_manager\n",
    "from multiprocessing import Pool"
   ]
  },
  {
   "cell_type": "code",
   "execution_count": null,
   "metadata": {},
   "outputs": [],
   "source": [
    "## Function to create a folder if it doesn't exist\n",
    "def create_folder(directory_path):\n",
    "    if not os.path.exists(directory_path):\n",
    "        os.makedirs(directory_path)\n"
   ]
  },
  {
   "cell_type": "code",
   "execution_count": null,
   "metadata": {},
   "outputs": [],
   "source": [
    "def download_folder_transfer_manager(bucket_name, bucket_folder_name, local_folder_path, workers=Pool()._processes, max_results=10000):\n",
    "    \"\"\"Downloads a folder from the bucket.\"\"\"\n",
    "\n",
    "    \n",
    "\n",
    "    ## Create the folder if it doesn't exist\n",
    "    create_folder(local_folder_path)\n",
    "\n",
    "    ## Create an anonymous client for the bucket\n",
    "    storage_client = Client.create_anonymous_client()\n",
    "\n",
    "    ## Get the bucket and list the blobs\n",
    "    bucket = storage_client.bucket(bucket_name)\n",
    "\n",
    "    blob_names = [blob.name for blob in bucket.list_blobs(max_results=max_results, prefix=bucket_folder_name)]\n",
    "\n",
    "    results = transfer_manager.download_many_to_path(\n",
    "        bucket, blob_names, destination_directory=local_folder_path, max_workers=workers\n",
    "    )\n",
    "\n",
    "    for name, result in zip(blob_names, results):\n",
    "        # The results list is either `None` or an exception for each blob in\n",
    "        # the input list, in order.\n",
    "\n",
    "        if isinstance(result, Exception):\n",
    "            print(\"Failed to download {} due to exception: {}\".format(name, result))\n",
    "        else:\n",
    "            print(\"Downloaded {} to {}.\".format(name, local_folder_path + name))\n"
   ]
  },
  {
   "cell_type": "code",
   "execution_count": null,
   "metadata": {},
   "outputs": [],
   "source": [
    "yymm = 1901\n",
    "download_folder_transfer_manager(bucket_name='arxiv-dataset', bucket_folder_name=f'arxiv/arxiv/pdf/{yymm}', local_folder_path='tmp_ds', max_results=10)"
   ]
  },
  {
   "cell_type": "code",
   "execution_count": null,
   "metadata": {},
   "outputs": [],
   "source": []
  },
  {
   "cell_type": "code",
   "execution_count": null,
   "metadata": {},
   "outputs": [],
   "source": []
  },
  {
   "cell_type": "code",
   "execution_count": null,
   "metadata": {},
   "outputs": [],
   "source": [
    "## Create a yymm list from the year 2020 to 2023\n",
    "def create_yymm_list(start_year, end_year):\n",
    "    yymm_list = []\n",
    "    for year in range(start_year, end_year + 1):\n",
    "        for month in range(1, 13):\n",
    "            yymm = year * 100 + month\n",
    "\n",
    "            if len(str(yymm)) == 3:\n",
    "                yymm = '0' + str(yymm)\n",
    "            \n",
    "            yymm_list.append(yymm)\n",
    "    return yymm_list\n",
    "\n",
    "yymm_list = create_yymm_list(11, 11)\n",
    "yymm_list = [str(i) for i in yymm_list]\n",
    "(yymm_list)"
   ]
  },
  {
   "cell_type": "code",
   "execution_count": null,
   "metadata": {},
   "outputs": [],
   "source": [
    "'|'.join(yymm_list)"
   ]
  }
 ],
 "metadata": {
  "kernelspec": {
   "display_name": "km",
   "language": "python",
   "name": "python3"
  },
  "language_info": {
   "codemirror_mode": {
    "name": "ipython",
    "version": 3
   },
   "file_extension": ".py",
   "mimetype": "text/x-python",
   "name": "python",
   "nbconvert_exporter": "python",
   "pygments_lexer": "ipython3",
   "version": "3.12.2"
  }
 },
 "nbformat": 4,
 "nbformat_minor": 2
}
