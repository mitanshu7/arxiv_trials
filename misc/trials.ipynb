{
 "cells": [
  {
   "cell_type": "code",
   "execution_count": 1,
   "metadata": {},
   "outputs": [],
   "source": [
    "import numpy as np\n",
    "\n"
   ]
  },
  {
   "cell_type": "code",
   "execution_count": 10,
   "metadata": {},
   "outputs": [
    {
     "data": {
      "text/plain": [
       "['1101',\n",
       " '1102',\n",
       " '1103',\n",
       " '1104',\n",
       " '1105',\n",
       " '1106',\n",
       " '1107',\n",
       " '1108',\n",
       " '1109',\n",
       " '1110',\n",
       " '1111',\n",
       " '1112']"
      ]
     },
     "execution_count": 10,
     "metadata": {},
     "output_type": "execute_result"
    }
   ],
   "source": [
    "## Create a yymm list from the year 2020 to 2023\n",
    "def create_yymm_list(start_year, end_year):\n",
    "    yymm_list = []\n",
    "    for year in range(start_year, end_year + 1):\n",
    "        for month in range(1, 13):\n",
    "            yymm = year * 100 + month\n",
    "\n",
    "            if len(str(yymm)) == 3:\n",
    "                yymm = '0' + str(yymm)\n",
    "            \n",
    "            yymm_list.append(yymm)\n",
    "    return yymm_list\n",
    "\n",
    "yymm_list = create_yymm_list(11, 11)\n",
    "yymm_list = [str(i) for i in yymm_list]\n",
    "(yymm_list)"
   ]
  },
  {
   "cell_type": "code",
   "execution_count": 5,
   "metadata": {},
   "outputs": [
    {
     "data": {
      "text/plain": [
       "'2001|2002|2003|2004|2005|2006|2007|2008|2009|2010|2011|2012|2101|2102|2103|2104|2105|2106|2107|2108|2109|2110|2111|2112'"
      ]
     },
     "execution_count": 5,
     "metadata": {},
     "output_type": "execute_result"
    }
   ],
   "source": [
    "'|'.join(yymm_list)"
   ]
  }
 ],
 "metadata": {
  "kernelspec": {
   "display_name": "km",
   "language": "python",
   "name": "python3"
  },
  "language_info": {
   "codemirror_mode": {
    "name": "ipython",
    "version": 3
   },
   "file_extension": ".py",
   "mimetype": "text/x-python",
   "name": "python",
   "nbconvert_exporter": "python",
   "pygments_lexer": "ipython3",
   "version": "3.11.8"
  }
 },
 "nbformat": 4,
 "nbformat_minor": 2
}
